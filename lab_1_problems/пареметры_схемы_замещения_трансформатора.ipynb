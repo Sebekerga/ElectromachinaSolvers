{
  "nbformat": 4,
  "nbformat_minor": 0,
  "metadata": {
    "colab": {
      "name": "Электромашины \"ПАРАМЕТРЫ СХЕМЫ ЗАМЕЩЕНИЯ ТРАНСФОРМАТОРА\"",
      "provenance": [],
      "collapsed_sections": []
    },
    "kernelspec": {
      "name": "python3",
      "display_name": "Python 3"
    },
    "language_info": {
      "name": "python"
    }
  },
  "cells": [
    {
      "cell_type": "markdown",
      "metadata": {
        "id": "wazwDVoiYBGb"
      },
      "source": [
        "1. **Введите общие параметры из условия задачи и посчитайте значение номинального тока**"
      ]
    },
    {
      "cell_type": "code",
      "metadata": {
        "id": "NUPdrDwCX_iY"
      },
      "source": [
        "мощность = 71.6 \n",
        "номинальное_напряжение = 220\n",
        "номинальный_ток = мощность / номинальное_напряжение\n",
        "print(номинальный_ток)"
      ],
      "execution_count": null,
      "outputs": []
    },
    {
      "cell_type": "markdown",
      "metadata": {
        "id": "b33lx0BXYQ5a"
      },
      "source": [
        "2. **Выставите трансформатор в режим холостого хода**\n",
        "\n",
        "  Для этого выставите ЛАТР с помощью + и - в такое положение, что U1 максимально близко к 220 - скорее всего это будет 219.79"
      ]
    },
    {
      "cell_type": "markdown",
      "metadata": {
        "id": "iKzl8e2sYsdd"
      },
      "source": [
        "3. **Введите все значения с приборов**"
      ]
    },
    {
      "cell_type": "code",
      "metadata": {
        "id": "DH4rkFPCYm82"
      },
      "source": [
        "P1_хх = 3.9\n",
        "U1_хх = 219.79\n",
        "I1_хх = 0.05\n",
        "U2_хх = 113.21\n",
        "I2_хх = 0.0"
      ],
      "execution_count": null,
      "outputs": []
    },
    {
      "cell_type": "markdown",
      "metadata": {
        "id": "j2dCceunY0it"
      },
      "source": [
        "3. **Выставите трансформатор в режим короткого замыкания**\n",
        "\n",
        "  Для этого выставите ЛАТР с помощью + и - в такое положение, что I1 максимально близко к значению номинального тока, полученного в первом пункте"
      ]
    },
    {
      "cell_type": "markdown",
      "metadata": {
        "id": "CP34z-ZfZp1c"
      },
      "source": [
        "4. **Введите все значения с приборов**"
      ]
    },
    {
      "cell_type": "code",
      "metadata": {
        "id": "N-99KlxFZt3h"
      },
      "source": [
        "P1_кз = 8.0\n",
        "U1_кз = 49.26\n",
        "I1_кз = 0.326\n",
        "U2_кз = 0.0\n",
        "I2_кз = 0.611"
      ],
      "execution_count": null,
      "outputs": []
    },
    {
      "cell_type": "markdown",
      "metadata": {
        "id": "KPuHYjoZZxxT"
      },
      "source": [
        "5. **Посчитайте значения сопротивления**"
      ]
    },
    {
      "cell_type": "code",
      "metadata": {
        "id": "47z72kkQZ45Z"
      },
      "source": [
        "Z_кз = U1_кз/I1_кз\n",
        "R_кз = P1_кз/(I1_кз**2)\n",
        "X_кз = np.sqrt(Z_кз**2 - R_кз**2)\n",
        "Z_хх = U1_хх/I1_хх\n",
        "R_хх = P1_хх/(I1_хх**2)\n",
        "X_хх = np.sqrt(Z_хх**2 - R_хх**2)"
      ],
      "execution_count": null,
      "outputs": []
    },
    {
      "cell_type": "markdown",
      "metadata": {
        "id": "QS0fPPsJZ6hP"
      },
      "source": [
        "6. **Введите значения сопротивления в красные поля ввода**"
      ]
    },
    {
      "cell_type": "code",
      "metadata": {
        "id": "nAFXdD69aCpw"
      },
      "source": [
        "# вывод ответов для режима короткого замыкания\n",
        "print(\"R1: {}\".format(R_кз/2))\n",
        "print(\"X1: {}\".format(X_кз/2))\n",
        "# вывод ответов для режима холостого хода\n",
        "print(\"Rm: {}\".format(R_хх - R_кз/2))\n",
        "print(\"Xm: {}\".format(X_хх - X_кз/2))"
      ],
      "execution_count": null,
      "outputs": []
    }
  ]
}