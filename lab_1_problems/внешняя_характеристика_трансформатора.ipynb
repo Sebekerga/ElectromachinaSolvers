{
 "cells": [
  {
   "cell_type": "markdown",
   "metadata": {},
   "source": [
    "**Для работы необходим модуль numpy**"
   ]
  },
  {
   "cell_type": "code",
   "execution_count": null,
   "metadata": {},
   "outputs": [],
   "source": [
    "import numpy as np"
   ]
  },
  {
   "cell_type": "markdown",
   "metadata": {
    "id": "wazwDVoiYBGb"
   },
   "source": [
    "1. **Введите общие параметры из условия задачи и посчитайте значение номинального тока**"
   ]
  },
  {
   "cell_type": "code",
   "execution_count": 8,
   "metadata": {
    "id": "NUPdrDwCX_iY"
   },
   "outputs": [],
   "source": [
    "мощность = \n",
    "номинальное_напряжение = \n",
    "номинальный_ток = мощность / номинальное_напряжение\n",
    "print(номинальный_ток)"
   ]
  },
  {
   "cell_type": "markdown",
   "metadata": {
    "id": "b33lx0BXYQ5a"
   },
   "source": [
    "2. **Выставите трансформатор в режим холостого хода**\n",
    "\n",
    "  Для этого разомкните ключ и выставите ЛАТР с помощью + и - в такое положение, что U1 максимально близко к 220 - скорее всего это будет 219.79"
   ]
  },
  {
   "cell_type": "markdown",
   "metadata": {
    "id": "iKzl8e2sYsdd"
   },
   "source": [
    "3. **Введите все значения с приборов**"
   ]
  },
  {
   "cell_type": "code",
   "execution_count": 9,
   "metadata": {
    "id": "DH4rkFPCYm82"
   },
   "outputs": [],
   "source": [
    "P1_хх = \n",
    "U1_хх = \n",
    "I1_хх = \n",
    "U2_хх = \n",
    "I2_хх = "
   ]
  },
  {
   "cell_type": "markdown",
   "metadata": {
    "id": "j2dCceunY0it"
   },
   "source": [
    "3. **Выставите трансформатор в режим короткого замыкания**\n",
    "\n",
    "  Для этого замкните ключ выставите ЛАТР с помощью + и - в такое положение, что I1 максимально близко к значению номинального тока, полученного в первом пункте"
   ]
  },
  {
   "cell_type": "markdown",
   "metadata": {
    "id": "CP34z-ZfZp1c"
   },
   "source": [
    "4. **Введите все значения с приборов**"
   ]
  },
  {
   "cell_type": "code",
   "execution_count": 10,
   "metadata": {
    "id": "N-99KlxFZt3h"
   },
   "outputs": [],
   "source": [
    "P1_кз = \n",
    "U1_кз = \n",
    "I1_кз = \n",
    "U2_кз = \n",
    "I2_кз = "
   ]
  },
  {
   "cell_type": "markdown",
   "metadata": {
    "id": "KPuHYjoZZxxT"
   },
   "source": [
    "5. **Посчитайте значения сопротивления**"
   ]
  },
  {
   "cell_type": "code",
   "execution_count": 11,
   "metadata": {
    "id": "47z72kkQZ45Z"
   },
   "outputs": [],
   "source": [
    "Z_кз = U1_кз/I1_кз\n",
    "R_кз = P1_кз/(I1_кз**2)\n",
    "X_кз = np.sqrt(Z_кз**2 - R_кз**2)\n",
    "Z_хх = U1_хх/I1_хх\n",
    "R_хх = P1_хх/(I1_хх**2)\n",
    "X_хх = np.sqrt(Z_хх**2 - R_хх**2)"
   ]
  },
  {
   "cell_type": "markdown",
   "metadata": {
    "id": "QS0fPPsJZ6hP"
   },
   "source": [
    "6. **Введите значения сопротивления в красные поля ввода**"
   ]
  },
  {
   "cell_type": "code",
   "execution_count": 12,
   "metadata": {
    "id": "nAFXdD69aCpw"
   },
   "outputs": [
    {
     "name": "stdout",
     "output_type": "stream",
     "text": [
      "R1: 38.26486641769607\n",
      "X1: 71.66098646865859\n",
      "Rm: 1389.6865224711928\n",
      "Xm: 4278.949803911592\n"
     ]
    }
   ],
   "source": [
    "# вывод ответов для режима короткого замыкания\n",
    "print(\"R1: {}\".format(R_кз/2))\n",
    "print(\"X1: {}\".format(X_кз/2))\n",
    "# вывод ответов для режима холостого хода\n",
    "print(\"Rm: {}\".format(R_хх - R_кз/2))\n",
    "print(\"Xm: {}\".format(X_хх - X_кз/2))"
   ]
  }
 ],
 "metadata": {
  "interpreter": {
   "hash": "916dbcbb3f70747c44a77c7bcd40155683ae19c65e1c03b4aa3499c5328201f1"
  },
  "kernelspec": {
   "display_name": "Python 3.8.10 64-bit",
   "name": "python3"
  },
  "language_info": {
   "codemirror_mode": {
    "name": "ipython",
    "version": 3
   },
   "file_extension": ".py",
   "mimetype": "text/x-python",
   "name": "python",
   "nbconvert_exporter": "python",
   "pygments_lexer": "ipython3",
   "version": "3.8.10"
  },
  "orig_nbformat": 4
 },
 "nbformat": 4,
 "nbformat_minor": 2
}
