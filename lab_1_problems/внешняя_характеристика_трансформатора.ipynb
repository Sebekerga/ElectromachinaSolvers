{
 "cells": [
  {
   "cell_type": "markdown",
   "metadata": {},
   "source": [
    "**Для работы необходим модуль numpy**"
   ]
  },
  {
   "cell_type": "code",
   "execution_count": 7,
   "metadata": {},
   "outputs": [],
   "source": [
    "import numpy as np"
   ]
  },
  {
   "cell_type": "markdown",
   "metadata": {
    "id": "wazwDVoiYBGb"
   },
   "source": [
    "1. **Введите общие параметры из условия задачи и посчитайте значение номинального тока**"
   ]
  },
  {
   "cell_type": "code",
   "execution_count": 21,
   "metadata": {
    "id": "NUPdrDwCX_iY"
   },
   "outputs": [],
   "source": [
    "мощность = \n",
    "номинальное_напряжение = \n",
    "коэффициент_мощности = \n",
    "номинальный_ток = мощность / номинальное_напряжение\n",
    "print(номинальный_ток)"
   ]
  },
  {
   "cell_type": "markdown",
   "metadata": {
    "id": "b33lx0BXYQ5a"
   },
   "source": [
    "2. **Выставите трансформатор в режим холостого хода**\n",
    "\n",
    "  Для этого разомкните ключ и выставите ЛАТР с помощью + и - в такое положение, что U1 максимально близко к 220 - скорее всего это будет 219.79"
   ]
  },
  {
   "cell_type": "markdown",
   "metadata": {
    "id": "iKzl8e2sYsdd"
   },
   "source": [
    "3. **Введите все значения с приборов**"
   ]
  },
  {
   "cell_type": "code",
   "execution_count": 22,
   "metadata": {
    "id": "DH4rkFPCYm82"
   },
   "outputs": [],
   "source": [
    "P1_хх = \n",
    "U1_хх = \n",
    "I1_хх = \n",
    "U2_хх = \n",
    "I2_хх = "
   ]
  },
  {
   "cell_type": "markdown",
   "metadata": {
    "id": "j2dCceunY0it"
   },
   "source": [
    "3. **Выставите трансформатор в режим короткого замыкания**\n",
    "\n",
    "  Для этого замкните ключ выставите ЛАТР с помощью + и - в такое положение, что I1 максимально близко к значению номинального тока, полученного в первом пункте"
   ]
  },
  {
   "cell_type": "markdown",
   "metadata": {
    "id": "CP34z-ZfZp1c"
   },
   "source": [
    "4. **Введите все значения с приборов**"
   ]
  },
  {
   "cell_type": "code",
   "execution_count": 23,
   "metadata": {
    "id": "N-99KlxFZt3h"
   },
   "outputs": [],
   "source": [
    "P1_кз = \n",
    "U1_кз = \n",
    "I1_кз = \n",
    "U2_кз = \n",
    "I2_кз = "
   ]
  },
  {
   "cell_type": "markdown",
   "metadata": {
    "id": "KPuHYjoZZxxT"
   },
   "source": [
    "5. **Посчитайте значения тока на второй обмотке**"
   ]
  },
  {
   "cell_type": "code",
   "execution_count": 24,
   "metadata": {
    "id": "47z72kkQZ45Z"
   },
   "outputs": [],
   "source": [
    "Z_кз = U1_кз/I1_кз\n",
    "R_кз = P1_кз/(I1_кз**2)\n",
    "X_кз = np.sqrt(Z_кз**2 - R_кз**2)\n",
    "\n",
    "cos2 = P1_кз/(I1_кз*U1_кз)\n",
    "sin1 = np.sqrt(1 - коэффициент_мощности*коэффициент_мощности)\n",
    "sin2 = np.sqrt(1 - cos2*cos2)"
   ]
  },
  {
   "cell_type": "markdown",
   "metadata": {
    "id": "QS0fPPsJZ6hP"
   },
   "source": [
    "6. **Введите значение напряжение в красное поле**"
   ]
  },
  {
   "cell_type": "code",
   "execution_count": null,
   "metadata": {
    "id": "nAFXdD69aCpw"
   },
   "outputs": [],
   "source": [
    "print(U2_хх - U1_кз*(коэффициент_мощности*cos2 + sin1*sin2)/(((I2_кз/I1_кз)+(номинальное_напряжение/U2_хх))/2))"
   ]
  }
 ],
 "metadata": {
  "interpreter": {
   "hash": "916dbcbb3f70747c44a77c7bcd40155683ae19c65e1c03b4aa3499c5328201f1"
  },
  "kernelspec": {
   "display_name": "Python 3.8.10 64-bit",
   "name": "python3"
  },
  "language_info": {
   "codemirror_mode": {
    "name": "ipython",
    "version": 3
   },
   "file_extension": ".py",
   "mimetype": "text/x-python",
   "name": "python",
   "nbconvert_exporter": "python",
   "pygments_lexer": "ipython3",
   "version": "3.8.10"
  },
  "orig_nbformat": 4
 },
 "nbformat": 4,
 "nbformat_minor": 2
}
