{
 "cells": [
  {
   "cell_type": "markdown",
   "metadata": {},
   "source": [
    "1. **Введите общие параметры из условия задачи**"
   ]
  },
  {
   "cell_type": "code",
   "execution_count": null,
   "metadata": {},
   "outputs": [],
   "source": [
    "номинальная_скорость_вращения = \n",
    "коффициент_ТГ = \n",
    "конструктивная_постоянная = "
   ]
  },
  {
   "cell_type": "markdown",
   "metadata": {},
   "source": [
    "2. **Округлите значение номинальной скорости вращение**"
   ]
  },
  {
   "cell_type": "code",
   "execution_count": null,
   "metadata": {},
   "outputs": [],
   "source": [
    "номинальная_скорость_вращения_округ = номинальная_скорость_вращения\n",
    "if номинальная_скорость_вращения_округ < 1250:\n",
    "    номинальная_скорость_вращения_округ = 1000\n",
    "elif номинальная_скорость_вращения_округ < 2250:\n",
    "    номинальная_скорость_вращения_округ = 1500\n",
    "else:\n",
    "    номинальная_скорость_вращения_округ = 3000"
   ]
  },
  {
   "cell_type": "markdown",
   "metadata": {},
   "source": [
    "3. **Посчитайте напряжение сухого трения и выставите его с помощью источника тока**"
   ]
  },
  {
   "cell_type": "code",
   "execution_count": null,
   "metadata": {},
   "outputs": [],
   "source": [
    "U_сухого_трения = номинальная_скорость_вращения_округ*коффициент_ТГ/1000\n",
    "print(\"U_сухого_трения = {}\".format(U_сухого_трения))"
   ]
  },
  {
   "cell_type": "markdown",
   "metadata": {},
   "source": [
    "4. **Введите полученоое значение Iа как ток сухого трения**"
   ]
  },
  {
   "cell_type": "code",
   "execution_count": 48,
   "metadata": {},
   "outputs": [],
   "source": [
    "I_сухого_трения = "
   ]
  },
  {
   "cell_type": "markdown",
   "metadata": {},
   "source": [
    "5. **Посчитайте напряжение сухого трения и выставите его с помощью источника тока**"
   ]
  },
  {
   "cell_type": "code",
   "execution_count": null,
   "metadata": {},
   "outputs": [],
   "source": [
    "U_нагрузочной_машины = номинальная_скорость_вращения*коффициент_ТГ/1000\n",
    "print(\"U_нагрузочной_машины = {}\".format(U_нагрузочной_машины))"
   ]
  },
  {
   "cell_type": "markdown",
   "metadata": {},
   "source": [
    "5. **Введите полученоое значение Iа как ток нагрузочной машины**"
   ]
  },
  {
   "cell_type": "code",
   "execution_count": 50,
   "metadata": {},
   "outputs": [],
   "source": [
    "I_нагрузочной_машины = "
   ]
  },
  {
   "cell_type": "markdown",
   "metadata": {},
   "source": [
    "6. **Посчитайте значение delta**"
   ]
  },
  {
   "cell_type": "code",
   "execution_count": null,
   "metadata": {},
   "outputs": [],
   "source": [
    "delta = I_сухого_трения/(I_сухого_трения + I_нагрузочной_машины)\n",
    "print(\"delta = {} %\".format(delta * 100))"
   ]
  }
 ],
 "metadata": {
  "interpreter": {
   "hash": "916dbcbb3f70747c44a77c7bcd40155683ae19c65e1c03b4aa3499c5328201f1"
  },
  "kernelspec": {
   "display_name": "Python 3.8.10 64-bit",
   "name": "python3"
  },
  "language_info": {
   "codemirror_mode": {
    "name": "ipython",
    "version": 3
   },
   "file_extension": ".py",
   "mimetype": "text/x-python",
   "name": "python",
   "nbconvert_exporter": "python",
   "pygments_lexer": "ipython3",
   "version": "3.8.10"
  },
  "orig_nbformat": 4
 },
 "nbformat": 4,
 "nbformat_minor": 2
}
