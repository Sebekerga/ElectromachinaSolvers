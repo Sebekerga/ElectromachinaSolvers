{
 "cells": [
  {
   "cell_type": "code",
   "execution_count": 4,
   "metadata": {},
   "outputs": [],
   "source": [
    "число_пар_полюсов = 1.0\n",
    "кратность_максимального_момента_двигателя = 2.1\n",
    "конструктивная_постоянная_нагрузочной_машины = 1.0"
   ]
  },
  {
   "cell_type": "code",
   "execution_count": 7,
   "metadata": {},
   "outputs": [],
   "source": [
    "скорость_вращения_холостого_хода = 50 * 60 / число_пар_полюсов\n",
    "U_холостого_хода = 14.857\n",
    "K_перехода = скорость_вращения_холостого_хода / U_холостого_хода"
   ]
  },
  {
   "cell_type": "code",
   "execution_count": 5,
   "metadata": {},
   "outputs": [],
   "source": [
    "I_опрокидывания = 24.86\n",
    "M = I_опрокидывания / кратность_максимального_момента_двигателя*конструктивная_постоянная_нагрузочной_машины\n"
   ]
  },
  {
   "cell_type": "code",
   "execution_count": 6,
   "metadata": {},
   "outputs": [
    {
     "name": "stdout",
     "output_type": "stream",
     "text": [
      "I_номинальный = 11.838095238095237\n"
     ]
    }
   ],
   "source": [
    "I_номинальный = M*конструктивная_постоянная_нагрузочной_машины\n",
    "print(\"I_номинальный = {}\".format(I_номинальный))"
   ]
  },
  {
   "cell_type": "code",
   "execution_count": 9,
   "metadata": {},
   "outputs": [],
   "source": [
    "Uтг = 14.238"
   ]
  },
  {
   "cell_type": "code",
   "execution_count": 12,
   "metadata": {},
   "outputs": [
    {
     "name": "stdout",
     "output_type": "stream",
     "text": [
      "11.838095238095237\n",
      "n = 2875.008413542438\n"
     ]
    }
   ],
   "source": [
    "n = Uтг*K_перехода\n",
    "print(M)\n",
    "print(\"n = {}\".format(n))"
   ]
  }
 ],
 "metadata": {
  "interpreter": {
   "hash": "916dbcbb3f70747c44a77c7bcd40155683ae19c65e1c03b4aa3499c5328201f1"
  },
  "kernelspec": {
   "display_name": "Python 3.8.10 64-bit",
   "name": "python3"
  },
  "language_info": {
   "codemirror_mode": {
    "name": "ipython",
    "version": 3
   },
   "file_extension": ".py",
   "mimetype": "text/x-python",
   "name": "python",
   "nbconvert_exporter": "python",
   "pygments_lexer": "ipython3",
   "version": "3.8.10"
  },
  "orig_nbformat": 4
 },
 "nbformat": 4,
 "nbformat_minor": 2
}
