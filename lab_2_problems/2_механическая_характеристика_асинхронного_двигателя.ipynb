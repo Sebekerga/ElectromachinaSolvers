{
 "cells": [
  {
   "cell_type": "markdown",
   "metadata": {},
   "source": [
    "1. **Введите общие параметры из условия задачи**"
   ]
  },
  {
   "cell_type": "code",
   "execution_count": 9,
   "metadata": {},
   "outputs": [],
   "source": [
    "кратность_пускового_момента = \n",
    "конструктивная_постоянная_нагрузочной_машины = "
   ]
  },
  {
   "cell_type": "markdown",
   "metadata": {},
   "source": [
    "2. **Проведите замеры**\n",
    "    1. Замкните оба ключа\n",
    "    2. Настройте источник постоянного тока так, чтобы напряжение Uтг было минимальным положительным\n",
    "    3. Введите показания ниже "
   ]
  },
  {
   "cell_type": "code",
   "execution_count": 10,
   "metadata": {},
   "outputs": [],
   "source": [
    "U_тг = \n",
    "I_а = "
   ]
  },
  {
   "cell_type": "markdown",
   "metadata": {},
   "source": [
    "3. **Проведите расчеты для получения номинального тока**"
   ]
  },
  {
   "cell_type": "code",
   "execution_count": null,
   "metadata": {},
   "outputs": [],
   "source": [
    "M_пуск = I_а * конструктивная_постоянная_нагрузочной_машины\n",
    "M_ном = M_пуск / кратность_пускового_момента\n",
    "I_ном = M_ном / конструктивная_постоянная_нагрузочной_машины\n",
    "\n",
    "print(\"I_ном = {}\".format(I_ном))"
   ]
  },
  {
   "cell_type": "markdown",
   "metadata": {},
   "source": [
    "4. **Выставите источник тока <ins>в правой половине</ins> так, чтобы ток был равен полученному номинальному значению тока**"
   ]
  }
 ],
 "metadata": {
  "interpreter": {
   "hash": "916dbcbb3f70747c44a77c7bcd40155683ae19c65e1c03b4aa3499c5328201f1"
  },
  "kernelspec": {
   "display_name": "Python 3.8.10 64-bit",
   "name": "python3"
  },
  "language_info": {
   "codemirror_mode": {
    "name": "ipython",
    "version": 3
   },
   "file_extension": ".py",
   "mimetype": "text/x-python",
   "name": "python",
   "nbconvert_exporter": "python",
   "pygments_lexer": "ipython3",
   "version": "3.8.10"
  },
  "orig_nbformat": 4
 },
 "nbformat": 4,
 "nbformat_minor": 2
}
